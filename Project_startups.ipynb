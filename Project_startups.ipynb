{
 "cells": [
  {
   "cell_type": "code",
   "execution_count": 1,
   "metadata": {},
   "outputs": [],
   "source": [
    "import pandas as pd\n",
    "import numpy as np\n",
    "import matplotlib.pyplot as plt"
   ]
  },
  {
   "cell_type": "code",
   "execution_count": 2,
   "metadata": {},
   "outputs": [],
   "source": [
    "df = pd.read_csv(\"investments_VC.csv\", encoding = 'unicode_escape')\n"
   ]
  },
  {
   "cell_type": "code",
   "execution_count": 3,
   "metadata": {},
   "outputs": [
    {
     "data": {
      "text/html": [
       "<div>\n",
       "<style scoped>\n",
       "    .dataframe tbody tr th:only-of-type {\n",
       "        vertical-align: middle;\n",
       "    }\n",
       "\n",
       "    .dataframe tbody tr th {\n",
       "        vertical-align: top;\n",
       "    }\n",
       "\n",
       "    .dataframe thead th {\n",
       "        text-align: right;\n",
       "    }\n",
       "</style>\n",
       "<table border=\"1\" class=\"dataframe\">\n",
       "  <thead>\n",
       "    <tr style=\"text-align: right;\">\n",
       "      <th></th>\n",
       "      <th>permalink</th>\n",
       "      <th>name</th>\n",
       "      <th>homepage_url</th>\n",
       "      <th>category_list</th>\n",
       "      <th>market</th>\n",
       "      <th>funding_total_usd</th>\n",
       "      <th>status</th>\n",
       "      <th>country_code</th>\n",
       "      <th>state_code</th>\n",
       "      <th>region</th>\n",
       "      <th>...</th>\n",
       "      <th>secondary_market</th>\n",
       "      <th>product_crowdfunding</th>\n",
       "      <th>round_A</th>\n",
       "      <th>round_B</th>\n",
       "      <th>round_C</th>\n",
       "      <th>round_D</th>\n",
       "      <th>round_E</th>\n",
       "      <th>round_F</th>\n",
       "      <th>round_G</th>\n",
       "      <th>round_H</th>\n",
       "    </tr>\n",
       "  </thead>\n",
       "  <tbody>\n",
       "    <tr>\n",
       "      <th>0</th>\n",
       "      <td>/organization/waywire</td>\n",
       "      <td>#waywire</td>\n",
       "      <td>http://www.waywire.com</td>\n",
       "      <td>|Entertainment|Politics|Social Media|News|</td>\n",
       "      <td>News</td>\n",
       "      <td>17,50,000</td>\n",
       "      <td>acquired</td>\n",
       "      <td>USA</td>\n",
       "      <td>NY</td>\n",
       "      <td>New York City</td>\n",
       "      <td>...</td>\n",
       "      <td>0.0</td>\n",
       "      <td>0.0</td>\n",
       "      <td>0.0</td>\n",
       "      <td>0.0</td>\n",
       "      <td>0.0</td>\n",
       "      <td>0.0</td>\n",
       "      <td>0.0</td>\n",
       "      <td>0.0</td>\n",
       "      <td>0.0</td>\n",
       "      <td>0.0</td>\n",
       "    </tr>\n",
       "    <tr>\n",
       "      <th>1</th>\n",
       "      <td>/organization/tv-communications</td>\n",
       "      <td>&amp;TV Communications</td>\n",
       "      <td>http://enjoyandtv.com</td>\n",
       "      <td>|Games|</td>\n",
       "      <td>Games</td>\n",
       "      <td>40,00,000</td>\n",
       "      <td>operating</td>\n",
       "      <td>USA</td>\n",
       "      <td>CA</td>\n",
       "      <td>Los Angeles</td>\n",
       "      <td>...</td>\n",
       "      <td>0.0</td>\n",
       "      <td>0.0</td>\n",
       "      <td>0.0</td>\n",
       "      <td>0.0</td>\n",
       "      <td>0.0</td>\n",
       "      <td>0.0</td>\n",
       "      <td>0.0</td>\n",
       "      <td>0.0</td>\n",
       "      <td>0.0</td>\n",
       "      <td>0.0</td>\n",
       "    </tr>\n",
       "    <tr>\n",
       "      <th>2</th>\n",
       "      <td>/organization/rock-your-paper</td>\n",
       "      <td>'Rock' Your Paper</td>\n",
       "      <td>http://www.rockyourpaper.org</td>\n",
       "      <td>|Publishing|Education|</td>\n",
       "      <td>Publishing</td>\n",
       "      <td>40,000</td>\n",
       "      <td>operating</td>\n",
       "      <td>EST</td>\n",
       "      <td>NaN</td>\n",
       "      <td>Tallinn</td>\n",
       "      <td>...</td>\n",
       "      <td>0.0</td>\n",
       "      <td>0.0</td>\n",
       "      <td>0.0</td>\n",
       "      <td>0.0</td>\n",
       "      <td>0.0</td>\n",
       "      <td>0.0</td>\n",
       "      <td>0.0</td>\n",
       "      <td>0.0</td>\n",
       "      <td>0.0</td>\n",
       "      <td>0.0</td>\n",
       "    </tr>\n",
       "    <tr>\n",
       "      <th>3</th>\n",
       "      <td>/organization/in-touch-network</td>\n",
       "      <td>(In)Touch Network</td>\n",
       "      <td>http://www.InTouchNetwork.com</td>\n",
       "      <td>|Electronics|Guides|Coffee|Restaurants|Music|i...</td>\n",
       "      <td>Electronics</td>\n",
       "      <td>15,00,000</td>\n",
       "      <td>operating</td>\n",
       "      <td>GBR</td>\n",
       "      <td>NaN</td>\n",
       "      <td>London</td>\n",
       "      <td>...</td>\n",
       "      <td>0.0</td>\n",
       "      <td>0.0</td>\n",
       "      <td>0.0</td>\n",
       "      <td>0.0</td>\n",
       "      <td>0.0</td>\n",
       "      <td>0.0</td>\n",
       "      <td>0.0</td>\n",
       "      <td>0.0</td>\n",
       "      <td>0.0</td>\n",
       "      <td>0.0</td>\n",
       "    </tr>\n",
       "    <tr>\n",
       "      <th>4</th>\n",
       "      <td>/organization/r-ranch-and-mine</td>\n",
       "      <td>-R- Ranch and Mine</td>\n",
       "      <td>NaN</td>\n",
       "      <td>|Tourism|Entertainment|Games|</td>\n",
       "      <td>Tourism</td>\n",
       "      <td>60,000</td>\n",
       "      <td>operating</td>\n",
       "      <td>USA</td>\n",
       "      <td>TX</td>\n",
       "      <td>Dallas</td>\n",
       "      <td>...</td>\n",
       "      <td>0.0</td>\n",
       "      <td>0.0</td>\n",
       "      <td>0.0</td>\n",
       "      <td>0.0</td>\n",
       "      <td>0.0</td>\n",
       "      <td>0.0</td>\n",
       "      <td>0.0</td>\n",
       "      <td>0.0</td>\n",
       "      <td>0.0</td>\n",
       "      <td>0.0</td>\n",
       "    </tr>\n",
       "  </tbody>\n",
       "</table>\n",
       "<p>5 rows × 39 columns</p>\n",
       "</div>"
      ],
      "text/plain": [
       "                         permalink                name  \\\n",
       "0            /organization/waywire            #waywire   \n",
       "1  /organization/tv-communications  &TV Communications   \n",
       "2    /organization/rock-your-paper   'Rock' Your Paper   \n",
       "3   /organization/in-touch-network   (In)Touch Network   \n",
       "4   /organization/r-ranch-and-mine  -R- Ranch and Mine   \n",
       "\n",
       "                    homepage_url  \\\n",
       "0         http://www.waywire.com   \n",
       "1          http://enjoyandtv.com   \n",
       "2   http://www.rockyourpaper.org   \n",
       "3  http://www.InTouchNetwork.com   \n",
       "4                            NaN   \n",
       "\n",
       "                                       category_list        market   \\\n",
       "0         |Entertainment|Politics|Social Media|News|          News    \n",
       "1                                            |Games|         Games    \n",
       "2                             |Publishing|Education|    Publishing    \n",
       "3  |Electronics|Guides|Coffee|Restaurants|Music|i...   Electronics    \n",
       "4                      |Tourism|Entertainment|Games|       Tourism    \n",
       "\n",
       "   funding_total_usd      status country_code state_code         region  ...  \\\n",
       "0          17,50,000    acquired          USA         NY  New York City  ...   \n",
       "1          40,00,000   operating          USA         CA    Los Angeles  ...   \n",
       "2             40,000   operating          EST        NaN        Tallinn  ...   \n",
       "3          15,00,000   operating          GBR        NaN         London  ...   \n",
       "4             60,000   operating          USA         TX         Dallas  ...   \n",
       "\n",
       "  secondary_market  product_crowdfunding round_A round_B round_C  round_D  \\\n",
       "0              0.0                   0.0     0.0     0.0     0.0      0.0   \n",
       "1              0.0                   0.0     0.0     0.0     0.0      0.0   \n",
       "2              0.0                   0.0     0.0     0.0     0.0      0.0   \n",
       "3              0.0                   0.0     0.0     0.0     0.0      0.0   \n",
       "4              0.0                   0.0     0.0     0.0     0.0      0.0   \n",
       "\n",
       "  round_E round_F  round_G  round_H  \n",
       "0     0.0     0.0      0.0      0.0  \n",
       "1     0.0     0.0      0.0      0.0  \n",
       "2     0.0     0.0      0.0      0.0  \n",
       "3     0.0     0.0      0.0      0.0  \n",
       "4     0.0     0.0      0.0      0.0  \n",
       "\n",
       "[5 rows x 39 columns]"
      ]
     },
     "execution_count": 3,
     "metadata": {},
     "output_type": "execute_result"
    }
   ],
   "source": [
    "df.head()"
   ]
  },
  {
   "cell_type": "code",
   "execution_count": 4,
   "metadata": {},
   "outputs": [
    {
     "data": {
      "text/plain": [
       "(54294, 39)"
      ]
     },
     "execution_count": 4,
     "metadata": {},
     "output_type": "execute_result"
    }
   ],
   "source": [
    "df.shape"
   ]
  },
  {
   "cell_type": "code",
   "execution_count": 5,
   "metadata": {},
   "outputs": [
    {
     "data": {
      "text/plain": [
       "array(['permalink', 'name', 'homepage_url', 'category_list', ' market ',\n",
       "       ' funding_total_usd ', 'status', 'country_code', 'state_code',\n",
       "       'region', 'city', 'funding_rounds', 'founded_at', 'founded_month',\n",
       "       'founded_quarter', 'founded_year', 'first_funding_at',\n",
       "       'last_funding_at', 'seed', 'venture', 'equity_crowdfunding',\n",
       "       'undisclosed', 'convertible_note', 'debt_financing', 'angel',\n",
       "       'grant', 'private_equity', 'post_ipo_equity', 'post_ipo_debt',\n",
       "       'secondary_market', 'product_crowdfunding', 'round_A', 'round_B',\n",
       "       'round_C', 'round_D', 'round_E', 'round_F', 'round_G', 'round_H'],\n",
       "      dtype=object)"
      ]
     },
     "execution_count": 5,
     "metadata": {},
     "output_type": "execute_result"
    }
   ],
   "source": [
    "df.columns.values"
   ]
  },
  {
   "cell_type": "code",
   "execution_count": 6,
   "metadata": {},
   "outputs": [
    {
     "data": {
      "text/html": [
       "<div>\n",
       "<style scoped>\n",
       "    .dataframe tbody tr th:only-of-type {\n",
       "        vertical-align: middle;\n",
       "    }\n",
       "\n",
       "    .dataframe tbody tr th {\n",
       "        vertical-align: top;\n",
       "    }\n",
       "\n",
       "    .dataframe thead th {\n",
       "        text-align: right;\n",
       "    }\n",
       "</style>\n",
       "<table border=\"1\" class=\"dataframe\">\n",
       "  <thead>\n",
       "    <tr style=\"text-align: right;\">\n",
       "      <th></th>\n",
       "      <th>funding_rounds</th>\n",
       "      <th>founded_year</th>\n",
       "      <th>seed</th>\n",
       "      <th>venture</th>\n",
       "      <th>equity_crowdfunding</th>\n",
       "      <th>undisclosed</th>\n",
       "      <th>convertible_note</th>\n",
       "      <th>debt_financing</th>\n",
       "      <th>angel</th>\n",
       "      <th>grant</th>\n",
       "      <th>...</th>\n",
       "      <th>secondary_market</th>\n",
       "      <th>product_crowdfunding</th>\n",
       "      <th>round_A</th>\n",
       "      <th>round_B</th>\n",
       "      <th>round_C</th>\n",
       "      <th>round_D</th>\n",
       "      <th>round_E</th>\n",
       "      <th>round_F</th>\n",
       "      <th>round_G</th>\n",
       "      <th>round_H</th>\n",
       "    </tr>\n",
       "  </thead>\n",
       "  <tbody>\n",
       "    <tr>\n",
       "      <th>count</th>\n",
       "      <td>49438.000000</td>\n",
       "      <td>38482.000000</td>\n",
       "      <td>4.943800e+04</td>\n",
       "      <td>4.943800e+04</td>\n",
       "      <td>4.943800e+04</td>\n",
       "      <td>4.943800e+04</td>\n",
       "      <td>4.943800e+04</td>\n",
       "      <td>4.943800e+04</td>\n",
       "      <td>4.943800e+04</td>\n",
       "      <td>4.943800e+04</td>\n",
       "      <td>...</td>\n",
       "      <td>4.943800e+04</td>\n",
       "      <td>4.943800e+04</td>\n",
       "      <td>4.943800e+04</td>\n",
       "      <td>4.943800e+04</td>\n",
       "      <td>4.943800e+04</td>\n",
       "      <td>4.943800e+04</td>\n",
       "      <td>4.943800e+04</td>\n",
       "      <td>4.943800e+04</td>\n",
       "      <td>4.943800e+04</td>\n",
       "      <td>4.943800e+04</td>\n",
       "    </tr>\n",
       "    <tr>\n",
       "      <th>mean</th>\n",
       "      <td>1.696205</td>\n",
       "      <td>2007.359129</td>\n",
       "      <td>2.173215e+05</td>\n",
       "      <td>7.501051e+06</td>\n",
       "      <td>6.163322e+03</td>\n",
       "      <td>1.302213e+05</td>\n",
       "      <td>2.336410e+04</td>\n",
       "      <td>1.888157e+06</td>\n",
       "      <td>6.541898e+04</td>\n",
       "      <td>1.628453e+05</td>\n",
       "      <td>...</td>\n",
       "      <td>3.845592e+04</td>\n",
       "      <td>7.074227e+03</td>\n",
       "      <td>1.243955e+06</td>\n",
       "      <td>1.492891e+06</td>\n",
       "      <td>1.205356e+06</td>\n",
       "      <td>7.375261e+05</td>\n",
       "      <td>3.424682e+05</td>\n",
       "      <td>1.697692e+05</td>\n",
       "      <td>5.767067e+04</td>\n",
       "      <td>1.423197e+04</td>\n",
       "    </tr>\n",
       "    <tr>\n",
       "      <th>std</th>\n",
       "      <td>1.294213</td>\n",
       "      <td>7.579203</td>\n",
       "      <td>1.056985e+06</td>\n",
       "      <td>2.847112e+07</td>\n",
       "      <td>1.999048e+05</td>\n",
       "      <td>2.981404e+06</td>\n",
       "      <td>1.432046e+06</td>\n",
       "      <td>1.382046e+08</td>\n",
       "      <td>6.582908e+05</td>\n",
       "      <td>5.612088e+06</td>\n",
       "      <td>...</td>\n",
       "      <td>3.864461e+06</td>\n",
       "      <td>4.282166e+05</td>\n",
       "      <td>5.531974e+06</td>\n",
       "      <td>7.472704e+06</td>\n",
       "      <td>7.993592e+06</td>\n",
       "      <td>9.815218e+06</td>\n",
       "      <td>5.406915e+06</td>\n",
       "      <td>6.277905e+06</td>\n",
       "      <td>5.252312e+06</td>\n",
       "      <td>2.716865e+06</td>\n",
       "    </tr>\n",
       "    <tr>\n",
       "      <th>min</th>\n",
       "      <td>1.000000</td>\n",
       "      <td>1902.000000</td>\n",
       "      <td>0.000000e+00</td>\n",
       "      <td>0.000000e+00</td>\n",
       "      <td>0.000000e+00</td>\n",
       "      <td>0.000000e+00</td>\n",
       "      <td>0.000000e+00</td>\n",
       "      <td>0.000000e+00</td>\n",
       "      <td>0.000000e+00</td>\n",
       "      <td>0.000000e+00</td>\n",
       "      <td>...</td>\n",
       "      <td>0.000000e+00</td>\n",
       "      <td>0.000000e+00</td>\n",
       "      <td>0.000000e+00</td>\n",
       "      <td>0.000000e+00</td>\n",
       "      <td>0.000000e+00</td>\n",
       "      <td>0.000000e+00</td>\n",
       "      <td>0.000000e+00</td>\n",
       "      <td>0.000000e+00</td>\n",
       "      <td>0.000000e+00</td>\n",
       "      <td>0.000000e+00</td>\n",
       "    </tr>\n",
       "    <tr>\n",
       "      <th>25%</th>\n",
       "      <td>1.000000</td>\n",
       "      <td>2006.000000</td>\n",
       "      <td>0.000000e+00</td>\n",
       "      <td>0.000000e+00</td>\n",
       "      <td>0.000000e+00</td>\n",
       "      <td>0.000000e+00</td>\n",
       "      <td>0.000000e+00</td>\n",
       "      <td>0.000000e+00</td>\n",
       "      <td>0.000000e+00</td>\n",
       "      <td>0.000000e+00</td>\n",
       "      <td>...</td>\n",
       "      <td>0.000000e+00</td>\n",
       "      <td>0.000000e+00</td>\n",
       "      <td>0.000000e+00</td>\n",
       "      <td>0.000000e+00</td>\n",
       "      <td>0.000000e+00</td>\n",
       "      <td>0.000000e+00</td>\n",
       "      <td>0.000000e+00</td>\n",
       "      <td>0.000000e+00</td>\n",
       "      <td>0.000000e+00</td>\n",
       "      <td>0.000000e+00</td>\n",
       "    </tr>\n",
       "    <tr>\n",
       "      <th>50%</th>\n",
       "      <td>1.000000</td>\n",
       "      <td>2010.000000</td>\n",
       "      <td>0.000000e+00</td>\n",
       "      <td>0.000000e+00</td>\n",
       "      <td>0.000000e+00</td>\n",
       "      <td>0.000000e+00</td>\n",
       "      <td>0.000000e+00</td>\n",
       "      <td>0.000000e+00</td>\n",
       "      <td>0.000000e+00</td>\n",
       "      <td>0.000000e+00</td>\n",
       "      <td>...</td>\n",
       "      <td>0.000000e+00</td>\n",
       "      <td>0.000000e+00</td>\n",
       "      <td>0.000000e+00</td>\n",
       "      <td>0.000000e+00</td>\n",
       "      <td>0.000000e+00</td>\n",
       "      <td>0.000000e+00</td>\n",
       "      <td>0.000000e+00</td>\n",
       "      <td>0.000000e+00</td>\n",
       "      <td>0.000000e+00</td>\n",
       "      <td>0.000000e+00</td>\n",
       "    </tr>\n",
       "    <tr>\n",
       "      <th>75%</th>\n",
       "      <td>2.000000</td>\n",
       "      <td>2012.000000</td>\n",
       "      <td>2.500000e+04</td>\n",
       "      <td>5.000000e+06</td>\n",
       "      <td>0.000000e+00</td>\n",
       "      <td>0.000000e+00</td>\n",
       "      <td>0.000000e+00</td>\n",
       "      <td>0.000000e+00</td>\n",
       "      <td>0.000000e+00</td>\n",
       "      <td>0.000000e+00</td>\n",
       "      <td>...</td>\n",
       "      <td>0.000000e+00</td>\n",
       "      <td>0.000000e+00</td>\n",
       "      <td>0.000000e+00</td>\n",
       "      <td>0.000000e+00</td>\n",
       "      <td>0.000000e+00</td>\n",
       "      <td>0.000000e+00</td>\n",
       "      <td>0.000000e+00</td>\n",
       "      <td>0.000000e+00</td>\n",
       "      <td>0.000000e+00</td>\n",
       "      <td>0.000000e+00</td>\n",
       "    </tr>\n",
       "    <tr>\n",
       "      <th>max</th>\n",
       "      <td>18.000000</td>\n",
       "      <td>2014.000000</td>\n",
       "      <td>1.300000e+08</td>\n",
       "      <td>2.351000e+09</td>\n",
       "      <td>2.500000e+07</td>\n",
       "      <td>2.924328e+08</td>\n",
       "      <td>3.000000e+08</td>\n",
       "      <td>3.007950e+10</td>\n",
       "      <td>6.359026e+07</td>\n",
       "      <td>7.505000e+08</td>\n",
       "      <td>...</td>\n",
       "      <td>6.806116e+08</td>\n",
       "      <td>7.200000e+07</td>\n",
       "      <td>3.190000e+08</td>\n",
       "      <td>5.420000e+08</td>\n",
       "      <td>4.900000e+08</td>\n",
       "      <td>1.200000e+09</td>\n",
       "      <td>4.000000e+08</td>\n",
       "      <td>1.060000e+09</td>\n",
       "      <td>1.000000e+09</td>\n",
       "      <td>6.000000e+08</td>\n",
       "    </tr>\n",
       "  </tbody>\n",
       "</table>\n",
       "<p>8 rows × 23 columns</p>\n",
       "</div>"
      ],
      "text/plain": [
       "       funding_rounds  founded_year          seed       venture  \\\n",
       "count    49438.000000  38482.000000  4.943800e+04  4.943800e+04   \n",
       "mean         1.696205   2007.359129  2.173215e+05  7.501051e+06   \n",
       "std          1.294213      7.579203  1.056985e+06  2.847112e+07   \n",
       "min          1.000000   1902.000000  0.000000e+00  0.000000e+00   \n",
       "25%          1.000000   2006.000000  0.000000e+00  0.000000e+00   \n",
       "50%          1.000000   2010.000000  0.000000e+00  0.000000e+00   \n",
       "75%          2.000000   2012.000000  2.500000e+04  5.000000e+06   \n",
       "max         18.000000   2014.000000  1.300000e+08  2.351000e+09   \n",
       "\n",
       "       equity_crowdfunding   undisclosed  convertible_note  debt_financing  \\\n",
       "count         4.943800e+04  4.943800e+04      4.943800e+04    4.943800e+04   \n",
       "mean          6.163322e+03  1.302213e+05      2.336410e+04    1.888157e+06   \n",
       "std           1.999048e+05  2.981404e+06      1.432046e+06    1.382046e+08   \n",
       "min           0.000000e+00  0.000000e+00      0.000000e+00    0.000000e+00   \n",
       "25%           0.000000e+00  0.000000e+00      0.000000e+00    0.000000e+00   \n",
       "50%           0.000000e+00  0.000000e+00      0.000000e+00    0.000000e+00   \n",
       "75%           0.000000e+00  0.000000e+00      0.000000e+00    0.000000e+00   \n",
       "max           2.500000e+07  2.924328e+08      3.000000e+08    3.007950e+10   \n",
       "\n",
       "              angel         grant  ...  secondary_market  \\\n",
       "count  4.943800e+04  4.943800e+04  ...      4.943800e+04   \n",
       "mean   6.541898e+04  1.628453e+05  ...      3.845592e+04   \n",
       "std    6.582908e+05  5.612088e+06  ...      3.864461e+06   \n",
       "min    0.000000e+00  0.000000e+00  ...      0.000000e+00   \n",
       "25%    0.000000e+00  0.000000e+00  ...      0.000000e+00   \n",
       "50%    0.000000e+00  0.000000e+00  ...      0.000000e+00   \n",
       "75%    0.000000e+00  0.000000e+00  ...      0.000000e+00   \n",
       "max    6.359026e+07  7.505000e+08  ...      6.806116e+08   \n",
       "\n",
       "       product_crowdfunding       round_A       round_B       round_C  \\\n",
       "count          4.943800e+04  4.943800e+04  4.943800e+04  4.943800e+04   \n",
       "mean           7.074227e+03  1.243955e+06  1.492891e+06  1.205356e+06   \n",
       "std            4.282166e+05  5.531974e+06  7.472704e+06  7.993592e+06   \n",
       "min            0.000000e+00  0.000000e+00  0.000000e+00  0.000000e+00   \n",
       "25%            0.000000e+00  0.000000e+00  0.000000e+00  0.000000e+00   \n",
       "50%            0.000000e+00  0.000000e+00  0.000000e+00  0.000000e+00   \n",
       "75%            0.000000e+00  0.000000e+00  0.000000e+00  0.000000e+00   \n",
       "max            7.200000e+07  3.190000e+08  5.420000e+08  4.900000e+08   \n",
       "\n",
       "            round_D       round_E       round_F       round_G       round_H  \n",
       "count  4.943800e+04  4.943800e+04  4.943800e+04  4.943800e+04  4.943800e+04  \n",
       "mean   7.375261e+05  3.424682e+05  1.697692e+05  5.767067e+04  1.423197e+04  \n",
       "std    9.815218e+06  5.406915e+06  6.277905e+06  5.252312e+06  2.716865e+06  \n",
       "min    0.000000e+00  0.000000e+00  0.000000e+00  0.000000e+00  0.000000e+00  \n",
       "25%    0.000000e+00  0.000000e+00  0.000000e+00  0.000000e+00  0.000000e+00  \n",
       "50%    0.000000e+00  0.000000e+00  0.000000e+00  0.000000e+00  0.000000e+00  \n",
       "75%    0.000000e+00  0.000000e+00  0.000000e+00  0.000000e+00  0.000000e+00  \n",
       "max    1.200000e+09  4.000000e+08  1.060000e+09  1.000000e+09  6.000000e+08  \n",
       "\n",
       "[8 rows x 23 columns]"
      ]
     },
     "execution_count": 6,
     "metadata": {},
     "output_type": "execute_result"
    }
   ],
   "source": [
    "df.describe()"
   ]
  },
  {
   "cell_type": "code",
   "execution_count": 7,
   "metadata": {},
   "outputs": [
    {
     "name": "stdout",
     "output_type": "stream",
     "text": [
      "<class 'pandas.core.frame.DataFrame'>\n",
      "RangeIndex: 54294 entries, 0 to 54293\n",
      "Data columns (total 39 columns):\n",
      "permalink               49438 non-null object\n",
      "name                    49437 non-null object\n",
      "homepage_url            45989 non-null object\n",
      "category_list           45477 non-null object\n",
      " market                 45470 non-null object\n",
      " funding_total_usd      49438 non-null object\n",
      "status                  48124 non-null object\n",
      "country_code            44165 non-null object\n",
      "state_code              30161 non-null object\n",
      "region                  44165 non-null object\n",
      "city                    43322 non-null object\n",
      "funding_rounds          49438 non-null float64\n",
      "founded_at              38554 non-null object\n",
      "founded_month           38482 non-null object\n",
      "founded_quarter         38482 non-null object\n",
      "founded_year            38482 non-null float64\n",
      "first_funding_at        49438 non-null object\n",
      "last_funding_at         49438 non-null object\n",
      "seed                    49438 non-null float64\n",
      "venture                 49438 non-null float64\n",
      "equity_crowdfunding     49438 non-null float64\n",
      "undisclosed             49438 non-null float64\n",
      "convertible_note        49438 non-null float64\n",
      "debt_financing          49438 non-null float64\n",
      "angel                   49438 non-null float64\n",
      "grant                   49438 non-null float64\n",
      "private_equity          49438 non-null float64\n",
      "post_ipo_equity         49438 non-null float64\n",
      "post_ipo_debt           49438 non-null float64\n",
      "secondary_market        49438 non-null float64\n",
      "product_crowdfunding    49438 non-null float64\n",
      "round_A                 49438 non-null float64\n",
      "round_B                 49438 non-null float64\n",
      "round_C                 49438 non-null float64\n",
      "round_D                 49438 non-null float64\n",
      "round_E                 49438 non-null float64\n",
      "round_F                 49438 non-null float64\n",
      "round_G                 49438 non-null float64\n",
      "round_H                 49438 non-null float64\n",
      "dtypes: float64(23), object(16)\n",
      "memory usage: 16.2+ MB\n"
     ]
    }
   ],
   "source": [
    "df.info()"
   ]
  },
  {
   "cell_type": "code",
   "execution_count": 8,
   "metadata": {},
   "outputs": [
    {
     "data": {
      "text/plain": [
       "array([ 1.,  2.,  4.,  6.,  3.,  8.,  5., 10.,  7.,  9., 11., 15., 12.,\n",
       "       14., 13., 16., 18., nan])"
      ]
     },
     "execution_count": 8,
     "metadata": {},
     "output_type": "execute_result"
    }
   ],
   "source": [
    "df['funding_rounds'].unique()"
   ]
  },
  {
   "cell_type": "code",
   "execution_count": 9,
   "metadata": {},
   "outputs": [],
   "source": [
    "df.drop('permalink',axis = 1, inplace = True)"
   ]
  },
  {
   "cell_type": "code",
   "execution_count": 10,
   "metadata": {},
   "outputs": [],
   "source": [
    "df.drop('name',axis = 1, inplace = True)"
   ]
  },
  {
   "cell_type": "code",
   "execution_count": 11,
   "metadata": {},
   "outputs": [],
   "source": [
    "df.drop('homepage_url',axis = 1, inplace = True)"
   ]
  },
  {
   "cell_type": "code",
   "execution_count": 12,
   "metadata": {},
   "outputs": [
    {
     "data": {
      "text/plain": [
       "array(['|Entertainment|Politics|Social Media|News|', '|Games|',\n",
       "       '|Publishing|Education|', ...,\n",
       "       '|Technology|Facebook Applications|Networking|Games|',\n",
       "       '|Analytics|Gamification|Developer APIs|iOS|Android|Education|',\n",
       "       '|Web Development|Advertising|Wireless|Mobile|'], dtype=object)"
      ]
     },
     "execution_count": 12,
     "metadata": {},
     "output_type": "execute_result"
    }
   ],
   "source": [
    "df['category_list'].unique()"
   ]
  },
  {
   "cell_type": "code",
   "execution_count": 13,
   "metadata": {},
   "outputs": [
    {
     "data": {
      "text/plain": [
       "16675"
      ]
     },
     "execution_count": 13,
     "metadata": {},
     "output_type": "execute_result"
    }
   ],
   "source": [
    "df['category_list'].nunique()"
   ]
  },
  {
   "cell_type": "code",
   "execution_count": 14,
   "metadata": {},
   "outputs": [
    {
     "data": {
      "text/plain": [
       "array(['category_list', ' market ', ' funding_total_usd ', 'status',\n",
       "       'country_code', 'state_code', 'region', 'city', 'funding_rounds',\n",
       "       'founded_at', 'founded_month', 'founded_quarter', 'founded_year',\n",
       "       'first_funding_at', 'last_funding_at', 'seed', 'venture',\n",
       "       'equity_crowdfunding', 'undisclosed', 'convertible_note',\n",
       "       'debt_financing', 'angel', 'grant', 'private_equity',\n",
       "       'post_ipo_equity', 'post_ipo_debt', 'secondary_market',\n",
       "       'product_crowdfunding', 'round_A', 'round_B', 'round_C', 'round_D',\n",
       "       'round_E', 'round_F', 'round_G', 'round_H'], dtype=object)"
      ]
     },
     "execution_count": 14,
     "metadata": {},
     "output_type": "execute_result"
    }
   ],
   "source": [
    "df.columns.values"
   ]
  },
  {
   "cell_type": "code",
   "execution_count": 15,
   "metadata": {},
   "outputs": [
    {
     "data": {
      "text/plain": [
       "753"
      ]
     },
     "execution_count": 15,
     "metadata": {},
     "output_type": "execute_result"
    }
   ],
   "source": [
    "df[' market '].nunique()"
   ]
  },
  {
   "cell_type": "code",
   "execution_count": 16,
   "metadata": {},
   "outputs": [],
   "source": [
    "df.drop('category_list',axis = 1, inplace = True)"
   ]
  },
  {
   "cell_type": "code",
   "execution_count": 17,
   "metadata": {},
   "outputs": [],
   "source": [
    "df.drop(' market ',axis = 1, inplace = True)"
   ]
  },
  {
   "cell_type": "code",
   "execution_count": 18,
   "metadata": {},
   "outputs": [
    {
     "data": {
      "text/plain": [
       "array([' funding_total_usd ', 'status', 'country_code', 'state_code',\n",
       "       'region', 'city', 'funding_rounds', 'founded_at', 'founded_month',\n",
       "       'founded_quarter', 'founded_year', 'first_funding_at',\n",
       "       'last_funding_at', 'seed', 'venture', 'equity_crowdfunding',\n",
       "       'undisclosed', 'convertible_note', 'debt_financing', 'angel',\n",
       "       'grant', 'private_equity', 'post_ipo_equity', 'post_ipo_debt',\n",
       "       'secondary_market', 'product_crowdfunding', 'round_A', 'round_B',\n",
       "       'round_C', 'round_D', 'round_E', 'round_F', 'round_G', 'round_H'],\n",
       "      dtype=object)"
      ]
     },
     "execution_count": 18,
     "metadata": {},
     "output_type": "execute_result"
    }
   ],
   "source": [
    "df.columns.values"
   ]
  },
  {
   "cell_type": "code",
   "execution_count": 19,
   "metadata": {},
   "outputs": [
    {
     "data": {
      "text/plain": [
       "4856"
      ]
     },
     "execution_count": 19,
     "metadata": {},
     "output_type": "execute_result"
    }
   ],
   "source": [
    "df[' funding_total_usd '].isnull().sum()"
   ]
  },
  {
   "cell_type": "code",
   "execution_count": 20,
   "metadata": {},
   "outputs": [
    {
     "data": {
      "text/plain": [
       "4856"
      ]
     },
     "execution_count": 20,
     "metadata": {},
     "output_type": "execute_result"
    }
   ],
   "source": [
    "df['seed'].isnull().sum()"
   ]
  },
  {
   "cell_type": "code",
   "execution_count": 21,
   "metadata": {},
   "outputs": [
    {
     "data": {
      "text/plain": [
       "Int64Index([49438, 49439, 49440, 49441, 49442, 49443, 49444, 49445, 49446,\n",
       "            49447,\n",
       "            ...\n",
       "            54284, 54285, 54286, 54287, 54288, 54289, 54290, 54291, 54292,\n",
       "            54293],\n",
       "           dtype='int64', length=4856)"
      ]
     },
     "execution_count": 21,
     "metadata": {},
     "output_type": "execute_result"
    }
   ],
   "source": [
    "nan_index = df[df[' funding_total_usd '].isnull()].index\n",
    "nan_index"
   ]
  },
  {
   "cell_type": "code",
   "execution_count": 22,
   "metadata": {},
   "outputs": [
    {
     "data": {
      "text/plain": [
       "Int64Index([49438, 49439, 49440, 49441, 49442, 49443, 49444, 49445, 49446,\n",
       "            49447,\n",
       "            ...\n",
       "            54284, 54285, 54286, 54287, 54288, 54289, 54290, 54291, 54292,\n",
       "            54293],\n",
       "           dtype='int64', length=4856)"
      ]
     },
     "execution_count": 22,
     "metadata": {},
     "output_type": "execute_result"
    }
   ],
   "source": [
    "nan_index = df[df['seed'].isnull()].index\n",
    "nan_index"
   ]
  },
  {
   "cell_type": "code",
   "execution_count": 23,
   "metadata": {},
   "outputs": [],
   "source": [
    "df[' funding_total_usd '].fillna(0, inplace = True)"
   ]
  },
  {
   "cell_type": "code",
   "execution_count": 24,
   "metadata": {},
   "outputs": [],
   "source": [
    "df['seed'].fillna(0, inplace = True)\n"
   ]
  },
  {
   "cell_type": "code",
   "execution_count": 25,
   "metadata": {},
   "outputs": [],
   "source": [
    "df['venture'].fillna(0, inplace = True)\n"
   ]
  },
  {
   "cell_type": "code",
   "execution_count": 26,
   "metadata": {},
   "outputs": [],
   "source": [
    "df['equity_crowdfunding'].fillna(0, inplace = True)\n"
   ]
  },
  {
   "cell_type": "code",
   "execution_count": 27,
   "metadata": {},
   "outputs": [],
   "source": [
    "df['undisclosed'].fillna(0, inplace = True)\n",
    "df['convertible_note'].fillna(0, inplace = True)\n",
    "df['debt_financing'].fillna(0, inplace = True)\n",
    "df['convertible_note'].fillna(0, inplace = True)\n",
    "df['debt_financing'].fillna(0, inplace = True)\n",
    "df['angel'].fillna(0, inplace = True)\n",
    "df['grant'].fillna(0, inplace = True)\n",
    "df['private_equity'].fillna(0, inplace = True)\n",
    "df['post_ipo_equity'].fillna(0, inplace = True)\n",
    "df['post_ipo_debt'].fillna(0, inplace = True)\n",
    "df['product_crowdfunding'].fillna(0, inplace = True)\n",
    "df['secondary_market'].fillna(0, inplace = True)\n",
    "\n",
    "df['round_A'].fillna(0, inplace = True)\n",
    "df['round_B'].fillna(0, inplace = True)\n",
    "df['round_C'].fillna(0, inplace = True)\n",
    "df['round_D'].fillna(0, inplace = True)\n",
    "df['round_E'].fillna(0, inplace = True)\n",
    "df['round_F'].fillna(0, inplace = True)\n",
    "df['round_G'].fillna(0, inplace = True)\n",
    "df['round_H'].fillna(0, inplace = True)"
   ]
  },
  {
   "cell_type": "code",
   "execution_count": 28,
   "metadata": {},
   "outputs": [
    {
     "data": {
      "text/plain": [
       " funding_total_usd          0\n",
       "status                   6170\n",
       "country_code            10129\n",
       "state_code              24133\n",
       "region                  10129\n",
       "city                    10972\n",
       "funding_rounds           4856\n",
       "founded_at              15740\n",
       "founded_month           15812\n",
       "founded_quarter         15812\n",
       "founded_year            15812\n",
       "first_funding_at         4856\n",
       "last_funding_at          4856\n",
       "seed                        0\n",
       "venture                     0\n",
       "equity_crowdfunding         0\n",
       "undisclosed                 0\n",
       "convertible_note            0\n",
       "debt_financing              0\n",
       "angel                       0\n",
       "grant                       0\n",
       "private_equity              0\n",
       "post_ipo_equity             0\n",
       "post_ipo_debt               0\n",
       "secondary_market            0\n",
       "product_crowdfunding        0\n",
       "round_A                     0\n",
       "round_B                     0\n",
       "round_C                     0\n",
       "round_D                     0\n",
       "round_E                     0\n",
       "round_F                     0\n",
       "round_G                     0\n",
       "round_H                     0\n",
       "dtype: int64"
      ]
     },
     "execution_count": 28,
     "metadata": {},
     "output_type": "execute_result"
    }
   ],
   "source": [
    "df.isnull().sum()"
   ]
  },
  {
   "cell_type": "code",
   "execution_count": 29,
   "metadata": {},
   "outputs": [
    {
     "data": {
      "text/plain": [
       "3"
      ]
     },
     "execution_count": 29,
     "metadata": {},
     "output_type": "execute_result"
    }
   ],
   "source": [
    "df['status'].nunique()"
   ]
  },
  {
   "cell_type": "code",
   "execution_count": 30,
   "metadata": {},
   "outputs": [
    {
     "data": {
      "text/plain": [
       "array(['acquired', 'operating', nan, 'closed'], dtype=object)"
      ]
     },
     "execution_count": 30,
     "metadata": {},
     "output_type": "execute_result"
    }
   ],
   "source": [
    "df['status'].unique()"
   ]
  },
  {
   "cell_type": "code",
   "execution_count": 31,
   "metadata": {},
   "outputs": [
    {
     "data": {
      "text/plain": [
       "6170"
      ]
     },
     "execution_count": 31,
     "metadata": {},
     "output_type": "execute_result"
    }
   ],
   "source": [
    "df['status'].isnull().sum()"
   ]
  },
  {
   "cell_type": "code",
   "execution_count": 32,
   "metadata": {
    "scrolled": true
   },
   "outputs": [],
   "source": [
    "df.dropna(subset=['status'], inplace = True)"
   ]
  },
  {
   "cell_type": "code",
   "execution_count": 33,
   "metadata": {},
   "outputs": [
    {
     "data": {
      "text/plain": [
       "0"
      ]
     },
     "execution_count": 33,
     "metadata": {},
     "output_type": "execute_result"
    }
   ],
   "source": [
    "df['status'].isnull().sum()"
   ]
  },
  {
   "cell_type": "code",
   "execution_count": 34,
   "metadata": {},
   "outputs": [
    {
     "data": {
      "text/plain": [
       "array(['acquired', 'operating', 'closed'], dtype=object)"
      ]
     },
     "execution_count": 34,
     "metadata": {},
     "output_type": "execute_result"
    }
   ],
   "source": [
    "df['status'].unique()"
   ]
  },
  {
   "cell_type": "code",
   "execution_count": 35,
   "metadata": {},
   "outputs": [],
   "source": [
    "df['status'] = df['status'].map( {'acquired': 1, 'operating': 1,'closed':0} ).astype(int)"
   ]
  },
  {
   "cell_type": "code",
   "execution_count": 36,
   "metadata": {},
   "outputs": [],
   "source": [
    "import seaborn as sns\n",
    "import matplotlib.pyplot as plt"
   ]
  },
  {
   "cell_type": "code",
   "execution_count": 37,
   "metadata": {},
   "outputs": [
    {
     "data": {
      "image/png": "[encoded data removed]",
      "text/plain": [
       "<Figure size 720x576 with 1 Axes>"
      ]
     },
     "metadata": {
      "needs_background": "light"
     },
     "output_type": "display_data"
    }
   ],
   "source": [
    "plt.figure(figsize=(10,8))\n",
    "sns.countplot(data=df,x='status')\n",
    "plt.show()\n"
   ]
  },
  {
   "cell_type": "code",
   "execution_count": 38,
   "metadata": {},
   "outputs": [
    {
     "name": "stdout",
     "output_type": "stream",
     "text": [
      "<class 'pandas.core.frame.DataFrame'>\n",
      "Int64Index: 48124 entries, 0 to 49437\n",
      "Data columns (total 34 columns):\n",
      " funding_total_usd      48124 non-null object\n",
      "status                  48124 non-null int32\n",
      "country_code            43057 non-null object\n",
      "state_code              29550 non-null object\n",
      "region                  43057 non-null object\n",
      "city                    42267 non-null object\n",
      "funding_rounds          48124 non-null float64\n",
      "founded_at              37636 non-null object\n",
      "founded_month           37564 non-null object\n",
      "founded_quarter         37564 non-null object\n",
      "founded_year            37564 non-null float64\n",
      "first_funding_at        48124 non-null object\n",
      "last_funding_at         48124 non-null object\n",
      "seed                    48124 non-null float64\n",
      "venture                 48124 non-null float64\n",
      "equity_crowdfunding     48124 non-null float64\n",
      "undisclosed             48124 non-null float64\n",
      "convertible_note        48124 non-null float64\n",
      "debt_financing          48124 non-null float64\n",
      "angel                   48124 non-null float64\n",
      "grant                   48124 non-null float64\n",
      "private_equity          48124 non-null float64\n",
      "post_ipo_equity         48124 non-null float64\n",
      "post_ipo_debt           48124 non-null float64\n",
      "secondary_market        48124 non-null float64\n",
      "product_crowdfunding    48124 non-null float64\n",
      "round_A                 48124 non-null float64\n",
      "round_B                 48124 non-null float64\n",
      "round_C                 48124 non-null float64\n",
      "round_D                 48124 non-null float64\n",
      "round_E                 48124 non-null float64\n",
      "round_F                 48124 non-null float64\n",
      "round_G                 48124 non-null float64\n",
      "round_H                 48124 non-null float64\n",
      "dtypes: float64(23), int32(1), object(10)\n",
      "memory usage: 13.9+ MB\n"
     ]
    }
   ],
   "source": [
    "df.info()"
   ]
  },
  {
   "cell_type": "code",
   "execution_count": 39,
   "metadata": {},
   "outputs": [
    {
     "data": {
      "text/plain": [
       "array(['USA', 'EST', 'GBR', 'ARG', nan, 'HKG', 'CHL', 'DEU', 'FRA', 'CHN',\n",
       "       'CAN', 'AUS', 'ROM', 'NLD', 'SWE', 'DNK', 'IND', 'SGP', 'NOR',\n",
       "       'BEL', 'IRL', 'ITA', 'ISR', 'ESP', 'THA', 'RUS', 'NZL', 'CZE',\n",
       "       'CHE', 'BRA', 'HUN', 'JPN', 'BWA', 'KOR', 'NGA', 'FIN', 'TUR',\n",
       "       'CRI', 'PRT', 'TWN', 'KHM', 'COL', 'UKR', 'LTU', 'ZAF', 'AUT',\n",
       "       'PHL', 'ISL', 'BGR', 'URY', 'HRV', 'KEN', 'MEX', 'JOR', 'VNM',\n",
       "       'GHA', 'PER', 'POL', 'IDN', 'PAN', 'LVA', 'ALB', 'UGA', 'LBN',\n",
       "       'GRC', 'ARE', 'PAK', 'EGY', 'SVK', 'LUX', 'MYS', 'BHS', 'ARM',\n",
       "       'MDA', 'DZA', 'TUN', 'NIC', 'TZA', 'CYP', 'NPL', 'BHR', 'CMR',\n",
       "       'SRB', 'SAU', 'CYM', 'BRN', 'SLV', 'ECU', 'MLT', 'SVN', 'LAO',\n",
       "       'TTO', 'MAR', 'MMR', 'BGD', 'DOM', 'BMU', 'LIE', 'MOZ', 'GTM',\n",
       "       'AZE', 'MCO', 'ZWE', 'UZB', 'OMN', 'BLR', 'JEY', 'JAM', 'KWT',\n",
       "       'MUS', 'CIV', 'SOM', 'MKD', 'GIB', 'SYC', 'MAF'], dtype=object)"
      ]
     },
     "execution_count": 39,
     "metadata": {},
     "output_type": "execute_result"
    }
   ],
   "source": [
    "df['country_code'].unique()"
   ]
  },
  {
   "cell_type": "code",
   "execution_count": 40,
   "metadata": {},
   "outputs": [
    {
     "data": {
      "text/plain": [
       "5067"
      ]
     },
     "execution_count": 40,
     "metadata": {},
     "output_type": "execute_result"
    }
   ],
   "source": [
    "df['country_code'].isnull().sum()"
   ]
  },
  {
   "cell_type": "code",
   "execution_count": 41,
   "metadata": {},
   "outputs": [],
   "source": [
    "df['country_code'] = df['country_code'].apply(lambda x: 'Other' if x != 'USA' else 'USA')\n",
    "    \n"
   ]
  },
  {
   "cell_type": "code",
   "execution_count": 42,
   "metadata": {},
   "outputs": [],
   "source": [
    "df['country_code'] = df['country_code'].map( {'Other': 0, 'USA':1} ).astype(int)"
   ]
  },
  {
   "cell_type": "code",
   "execution_count": 43,
   "metadata": {},
   "outputs": [],
   "source": [
    "df.drop('state_code',axis = 1, inplace = True)\n"
   ]
  },
  {
   "cell_type": "code",
   "execution_count": 44,
   "metadata": {},
   "outputs": [],
   "source": [
    "df.drop('region',axis = 1, inplace = True)"
   ]
  },
  {
   "cell_type": "code",
   "execution_count": 45,
   "metadata": {},
   "outputs": [],
   "source": [
    "df.drop('city',axis = 1, inplace = True)\n"
   ]
  },
  {
   "cell_type": "code",
   "execution_count": 46,
   "metadata": {},
   "outputs": [],
   "source": [
    "df.drop(' funding_total_usd ',axis = 1, inplace = True)"
   ]
  },
  {
   "cell_type": "code",
   "execution_count": 47,
   "metadata": {},
   "outputs": [],
   "source": [
    "df.drop('founded_at',axis = 1, inplace = True)\n",
    "df.drop('founded_month',axis = 1, inplace = True)\n",
    "df.drop('founded_quarter',axis = 1, inplace = True)\n",
    "df.drop('founded_year',axis = 1, inplace = True)\n",
    "df.drop('first_funding_at',axis = 1, inplace = True)\n",
    "df.drop('last_funding_at',axis = 1, inplace = True)\n"
   ]
  },
  {
   "cell_type": "code",
   "execution_count": 48,
   "metadata": {},
   "outputs": [
    {
     "name": "stdout",
     "output_type": "stream",
     "text": [
      "<class 'pandas.core.frame.DataFrame'>\n",
      "Int64Index: 48124 entries, 0 to 49437\n",
      "Data columns (total 24 columns):\n",
      "status                  48124 non-null int32\n",
      "country_code            48124 non-null int32\n",
      "funding_rounds          48124 non-null float64\n",
      "seed                    48124 non-null float64\n",
      "venture                 48124 non-null float64\n",
      "equity_crowdfunding     48124 non-null float64\n",
      "undisclosed             48124 non-null float64\n",
      "convertible_note        48124 non-null float64\n",
      "debt_financing          48124 non-null float64\n",
      "angel                   48124 non-null float64\n",
      "grant                   48124 non-null float64\n",
      "private_equity          48124 non-null float64\n",
      "post_ipo_equity         48124 non-null float64\n",
      "post_ipo_debt           48124 non-null float64\n",
      "secondary_market        48124 non-null float64\n",
      "product_crowdfunding    48124 non-null float64\n",
      "round_A                 48124 non-null float64\n",
      "round_B                 48124 non-null float64\n",
      "round_C                 48124 non-null float64\n",
      "round_D                 48124 non-null float64\n",
      "round_E                 48124 non-null float64\n",
      "round_F                 48124 non-null float64\n",
      "round_G                 48124 non-null float64\n",
      "round_H                 48124 non-null float64\n",
      "dtypes: float64(22), int32(2)\n",
      "memory usage: 10.1 MB\n"
     ]
    }
   ],
   "source": [
    "df.info()"
   ]
  },
  {
   "cell_type": "code",
   "execution_count": 49,
   "metadata": {},
   "outputs": [
    {
     "data": {
      "text/plain": [
       "array(['status', 'country_code', 'funding_rounds', 'seed', 'venture',\n",
       "       'equity_crowdfunding', 'undisclosed', 'convertible_note',\n",
       "       'debt_financing', 'angel', 'grant', 'private_equity',\n",
       "       'post_ipo_equity', 'post_ipo_debt', 'secondary_market',\n",
       "       'product_crowdfunding', 'round_A', 'round_B', 'round_C', 'round_D',\n",
       "       'round_E', 'round_F', 'round_G', 'round_H'], dtype=object)"
      ]
     },
     "execution_count": 49,
     "metadata": {},
     "output_type": "execute_result"
    }
   ],
   "source": [
    "df.columns.values"
   ]
  },
  {
   "cell_type": "code",
   "execution_count": 50,
   "metadata": {},
   "outputs": [
    {
     "data": {
      "text/plain": [
       "<matplotlib.axes._subplots.AxesSubplot at 0x14d0cb5c4c8>"
      ]
     },
     "execution_count": 50,
     "metadata": {},
     "output_type": "execute_result"
    },
    {
     "data": {
      "image/png": "[encoded data removed]",
      "text/plain": [
       "<Figure size 1440x360 with 1 Axes>"
      ]
     },
     "metadata": {
      "needs_background": "light"
     },
     "output_type": "display_data"
    }
   ],
   "source": [
    "df[['status','funding_rounds']].groupby('funding_rounds').count().plot(kind = 'bar', figsize = (20,5))"
   ]
  },
  {
   "cell_type": "code",
   "execution_count": 51,
   "metadata": {},
   "outputs": [
    {
     "data": {
      "text/plain": [
       "<matplotlib.axes._subplots.AxesSubplot at 0x14d0a824388>"
      ]
     },
     "execution_count": 51,
     "metadata": {},
     "output_type": "execute_result"
    },
    {
     "data": {
      "image/png": "[encoded data removed]",
      "text/plain": [
       "<Figure size 432x288 with 1 Axes>"
      ]
     },
     "metadata": {
      "needs_background": "light"
     },
     "output_type": "display_data"
    }
   ],
   "source": [
    "df[['funding_rounds','status']].groupby('status').mean().plot(kind = 'bar')"
   ]
  },
  {
   "cell_type": "code",
   "execution_count": 52,
   "metadata": {},
   "outputs": [
    {
     "data": {
      "text/plain": [
       "<matplotlib.axes._subplots.AxesSubplot at 0x14d0a85dd48>"
      ]
     },
     "execution_count": 52,
     "metadata": {},
     "output_type": "execute_result"
    },
    {
     "data": {
      "image/png": "[encoded data removed]",
      "text/plain": [
       "<Figure size 1440x360 with 1 Axes>"
      ]
     },
     "metadata": {
      "needs_background": "light"
     },
     "output_type": "display_data"
    }
   ],
   "source": [
    "df[['status','country_code']].groupby('country_code').count().plot(kind = 'bar', figsize = (20,5))"
   ]
  },
  {
   "cell_type": "code",
   "execution_count": 53,
   "metadata": {},
   "outputs": [
    {
     "data": {
      "text/plain": [
       "<matplotlib.axes._subplots.AxesSubplot at 0x14d0a8d5648>"
      ]
     },
     "execution_count": 53,
     "metadata": {},
     "output_type": "execute_result"
    },
    {
     "data": {
      "image/png": "[encoded data removed]",
      "text/plain": [
       "<Figure size 1440x360 with 1 Axes>"
      ]
     },
     "metadata": {
      "needs_background": "light"
     },
     "output_type": "display_data"
    }
   ],
   "source": [
    "df[['status','country_code']].groupby('country_code').count().plot(kind = 'bar', figsize = (20,5))"
   ]
  },
  {
   "cell_type": "code",
   "execution_count": 54,
   "metadata": {},
   "outputs": [
    {
     "name": "stdout",
     "output_type": "stream",
     "text": [
      "<class 'pandas.core.frame.DataFrame'>\n",
      "Int64Index: 48124 entries, 0 to 49437\n",
      "Data columns (total 24 columns):\n",
      "status                  48124 non-null int32\n",
      "country_code            48124 non-null int32\n",
      "funding_rounds          48124 non-null float64\n",
      "seed                    48124 non-null float64\n",
      "venture                 48124 non-null float64\n",
      "equity_crowdfunding     48124 non-null float64\n",
      "undisclosed             48124 non-null float64\n",
      "convertible_note        48124 non-null float64\n",
      "debt_financing          48124 non-null float64\n",
      "angel                   48124 non-null float64\n",
      "grant                   48124 non-null float64\n",
      "private_equity          48124 non-null float64\n",
      "post_ipo_equity         48124 non-null float64\n",
      "post_ipo_debt           48124 non-null float64\n",
      "secondary_market        48124 non-null float64\n",
      "product_crowdfunding    48124 non-null float64\n",
      "round_A                 48124 non-null float64\n",
      "round_B                 48124 non-null float64\n",
      "round_C                 48124 non-null float64\n",
      "round_D                 48124 non-null float64\n",
      "round_E                 48124 non-null float64\n",
      "round_F                 48124 non-null float64\n",
      "round_G                 48124 non-null float64\n",
      "round_H                 48124 non-null float64\n",
      "dtypes: float64(22), int32(2)\n",
      "memory usage: 10.1 MB\n"
     ]
    }
   ],
   "source": [
    "df.info()"
   ]
  },
  {
   "cell_type": "code",
   "execution_count": 55,
   "metadata": {},
   "outputs": [],
   "source": [
    "X = df.drop('status', axis =1)\n",
    "y = df['status']"
   ]
  },
  {
   "cell_type": "code",
   "execution_count": 56,
   "metadata": {},
   "outputs": [],
   "source": [
    "from sklearn.model_selection import train_test_split\n",
    "from sklearn.preprocessing import MinMaxScaler"
   ]
  },
  {
   "cell_type": "code",
   "execution_count": 57,
   "metadata": {},
   "outputs": [],
   "source": [
    "X_train_org, X_test_org,y_train,y_test = train_test_split(X,y,random_state = 0)\n"
   ]
  },
  {
   "cell_type": "code",
   "execution_count": 58,
   "metadata": {},
   "outputs": [],
   "source": [
    "scaler = MinMaxScaler()"
   ]
  },
  {
   "cell_type": "code",
   "execution_count": 59,
   "metadata": {},
   "outputs": [],
   "source": [
    "scaler.fit(X_test_org)\n",
    "X_train = scaler.transform(X_train_org)\n",
    "X_test = scaler.transform(X_test_org)"
   ]
  },
  {
   "cell_type": "markdown",
   "metadata": {},
   "source": [
    "# KNN"
   ]
  },
  {
   "cell_type": "code",
   "execution_count": 60,
   "metadata": {},
   "outputs": [],
   "source": [
    "from sklearn.neighbors import KNeighborsClassifier\n",
    "\n",
    "train_score_array = []\n",
    "test_score_array = []\n",
    "\n",
    "for k in range(1,10):\n",
    "    knn = KNeighborsClassifier(k)\n",
    "    knn.fit(X_train, y_train)\n",
    "    train_score_array.append(knn.score(X_train, y_train))\n",
    "    test_score_array.append(knn.score(X_test, y_test))"
   ]
  },
  {
   "cell_type": "code",
   "execution_count": 61,
   "metadata": {},
   "outputs": [
    {
     "data": {
      "text/plain": [
       "<matplotlib.legend.Legend at 0x14d0cd60748>"
      ]
     },
     "execution_count": 61,
     "metadata": {},
     "output_type": "execute_result"
    },
    {
     "data": {
      "image/png": "[encoded data removed]",
      "text/plain": [
       "<Figure size 432x288 with 1 Axes>"
      ]
     },
     "metadata": {
      "needs_background": "light"
     },
     "output_type": "display_data"
    }
   ],
   "source": [
    "x_axis = range(1,10)\n",
    "%matplotlib inline\n",
    "plt.plot(x_axis, train_score_array, label = 'Train Score', c = 'g')\n",
    "plt.plot(x_axis, test_score_array, label = 'Test Score', c='b')\n",
    "plt.xlabel('k')\n",
    "plt.ylabel('Accuracy')\n",
    "plt.legend()"
   ]
  },
  {
   "cell_type": "code",
   "execution_count": 62,
   "metadata": {},
   "outputs": [
    {
     "name": "stdout",
     "output_type": "stream",
     "text": [
      "Train score: 0.9465\n",
      "Train score: 0.9429\n"
     ]
    }
   ],
   "source": [
    "knn = KNeighborsClassifier(8)\n",
    "knn.fit(X_train, y_train)\n",
    "print('Train score: {:.4f}'.format(knn.score(X_train, y_train)))\n",
    "print('Train score: {:.4f}'.format(knn.score(X_test, y_test)))"
   ]
  },
  {
   "cell_type": "markdown",
   "metadata": {},
   "source": [
    "# Using cross validation"
   ]
  },
  {
   "cell_type": "code",
   "execution_count": 63,
   "metadata": {},
   "outputs": [],
   "source": [
    "from sklearn.neighbors import KNeighborsClassifier\n",
    "from sklearn.model_selection import cross_val_score\n",
    "scores = cross_val_score(knn, X, y, cv=10, scoring='accuracy')"
   ]
  },
  {
   "cell_type": "code",
   "execution_count": 64,
   "metadata": {},
   "outputs": [
    {
     "data": {
      "text/plain": [
       "0.9448508032502027"
      ]
     },
     "execution_count": 64,
     "metadata": {},
     "output_type": "execute_result"
    }
   ],
   "source": [
    "scores.mean()"
   ]
  },
  {
   "cell_type": "code",
   "execution_count": 65,
   "metadata": {},
   "outputs": [],
   "source": [
    "k_range = range(1, 20)\n",
    "\n",
    "# list of scores from k_range\n",
    "k_scores = []\n",
    "\n",
    "# 1. we will loop through reasonable values of k\n",
    "for k in k_range:\n",
    "    # 2. run KNeighborsClassifier with k neighbours\n",
    "    knn = KNeighborsClassifier(n_neighbors=k)\n",
    "    # 3. obtain cross_val_score for KNeighborsClassifier with k neighbours\n",
    "    scores = cross_val_score(knn, X_train, y_train, cv=5, scoring='accuracy')\n",
    "    # 4. append mean of scores for k neighbors to k_scores list\n",
    "    k_scores.append(scores.mean())\n"
   ]
  },
  {
   "cell_type": "code",
   "execution_count": 66,
   "metadata": {
    "scrolled": true
   },
   "outputs": [
    {
     "data": {
      "text/plain": [
       "[0.8931100393879932,\n",
       " 0.8537949503732165,\n",
       " 0.938242893789061,\n",
       " 0.929709345481627,\n",
       " 0.9438395208051963,\n",
       " 0.9401268073908747,\n",
       " 0.9460560286037458,\n",
       " 0.9456681287039592,\n",
       " 0.9464716178186692,\n",
       " 0.9463884999756844,\n",
       " 0.9464993224869058,\n",
       " 0.9464439131504326,\n",
       " 0.9464716178186692,\n",
       " 0.9464439131504326,\n",
       " 0.9464993224869058,\n",
       " 0.9464993224869058,\n",
       " 0.9464993224869058,\n",
       " 0.9464993224869058,\n",
       " 0.9464993224869058]"
      ]
     },
     "execution_count": 66,
     "metadata": {},
     "output_type": "execute_result"
    }
   ],
   "source": [
    "k_scores"
   ]
  },
  {
   "cell_type": "code",
   "execution_count": 67,
   "metadata": {},
   "outputs": [
    {
     "data": {
      "text/plain": [
       "Text(0, 0.5, 'Cross-Validated Accuracy')"
      ]
     },
     "execution_count": 67,
     "metadata": {},
     "output_type": "execute_result"
    },
    {
     "data": {
      "image/png": "[encoded data removed]",
      "text/plain": [
       "<Figure size 432x288 with 1 Axes>"
      ]
     },
     "metadata": {
      "needs_background": "light"
     },
     "output_type": "display_data"
    }
   ],
   "source": [
    "plt.plot(k_range, k_scores)\n",
    "plt.xlabel('Value of K for KNN')\n",
    "plt.ylabel('Cross-Validated Accuracy')"
   ]
  },
  {
   "cell_type": "code",
   "execution_count": 68,
   "metadata": {},
   "outputs": [],
   "source": [
    "k_range = range(1, 20)\n",
    "\n",
    "# list of scores from k_range\n",
    "k_scores = []\n",
    "\n",
    "# 1. we will loop through reasonable values of k\n",
    "for k in k_range:\n",
    "    # 2. run KNeighborsClassifier with k neighbours\n",
    "    knn = KNeighborsClassifier(n_neighbors=k)\n",
    "    # 3. obtain cross_val_score for KNeighborsClassifier with k neighbours\n",
    "    scores = cross_val_score(knn, X_test, y_test, cv=5, scoring='accuracy')\n",
    "    # 4. append mean of scores for k neighbors to k_scores list\n",
    "    k_scores.append(scores.mean())"
   ]
  },
  {
   "cell_type": "code",
   "execution_count": 69,
   "metadata": {},
   "outputs": [
    {
     "data": {
      "text/plain": [
       "[0.8919446985637969,\n",
       " 0.8393301471428755,\n",
       " 0.9362481139624281,\n",
       " 0.9261909276110375,\n",
       " 0.9416508583132945,\n",
       " 0.9375778459957294,\n",
       " 0.9434793089288963,\n",
       " 0.942897533896874,\n",
       " 0.9439780620461035,\n",
       " 0.9439780620461035,\n",
       " 0.9441443130851723,\n",
       " 0.9441443130851723,\n",
       " 0.9441443130851723,\n",
       " 0.9441443130851723,\n",
       " 0.9441443130851723,\n",
       " 0.9441443130851723,\n",
       " 0.9441443130851723,\n",
       " 0.9441443130851723,\n",
       " 0.9441443130851723]"
      ]
     },
     "execution_count": 69,
     "metadata": {},
     "output_type": "execute_result"
    }
   ],
   "source": [
    "k_scores"
   ]
  },
  {
   "cell_type": "markdown",
   "metadata": {},
   "source": [
    "# Grid CV\n"
   ]
  },
  {
   "cell_type": "code",
   "execution_count": 70,
   "metadata": {},
   "outputs": [],
   "source": [
    "from sklearn.model_selection import GridSearchCV"
   ]
  },
  {
   "cell_type": "code",
   "execution_count": 71,
   "metadata": {},
   "outputs": [],
   "source": [
    "k_range = list(range(1, 31))"
   ]
  },
  {
   "cell_type": "code",
   "execution_count": 72,
   "metadata": {},
   "outputs": [],
   "source": [
    "param_grid = dict(n_neighbors=k_range)"
   ]
  },
  {
   "cell_type": "code",
   "execution_count": 73,
   "metadata": {},
   "outputs": [],
   "source": [
    "grid = GridSearchCV(knn, param_grid, cv=5, scoring='accuracy')"
   ]
  },
  {
   "cell_type": "code",
   "execution_count": 74,
   "metadata": {},
   "outputs": [
    {
     "data": {
      "text/plain": [
       "GridSearchCV(cv=5, error_score=nan,\n",
       "             estimator=KNeighborsClassifier(algorithm='auto', leaf_size=30,\n",
       "                                            metric='minkowski',\n",
       "                                            metric_params=None, n_jobs=None,\n",
       "                                            n_neighbors=19, p=2,\n",
       "                                            weights='uniform'),\n",
       "             iid='deprecated', n_jobs=None,\n",
       "             param_grid={'n_neighbors': [1, 2, 3, 4, 5, 6, 7, 8, 9, 10, 11, 12,\n",
       "                                         13, 14, 15, 16, 17, 18, 19, 20, 21, 22,\n",
       "                                         23, 24, 25, 26, 27, 28, 29, 30]},\n",
       "             pre_dispatch='2*n_jobs', refit=True, return_train_score=False,\n",
       "             scoring='accuracy', verbose=0)"
      ]
     },
     "execution_count": 74,
     "metadata": {},
     "output_type": "execute_result"
    }
   ],
   "source": [
    "grid.fit(X_test, y_test)"
   ]
  },
  {
   "cell_type": "code",
   "execution_count": 75,
   "metadata": {},
   "outputs": [
    {
     "data": {
      "text/plain": [
       "GridSearchCV(cv=5, error_score=nan,\n",
       "             estimator=KNeighborsClassifier(algorithm='auto', leaf_size=30,\n",
       "                                            metric='minkowski',\n",
       "                                            metric_params=None, n_jobs=None,\n",
       "                                            n_neighbors=19, p=2,\n",
       "                                            weights='uniform'),\n",
       "             iid='deprecated', n_jobs=None,\n",
       "             param_grid={'n_neighbors': [1, 2, 3, 4, 5, 6, 7, 8, 9, 10, 11, 12,\n",
       "                                         13, 14, 15, 16, 17, 18, 19, 20, 21, 22,\n",
       "                                         23, 24, 25, 26, 27, 28, 29, 30]},\n",
       "             pre_dispatch='2*n_jobs', refit=True, return_train_score=False,\n",
       "             scoring='accuracy', verbose=0)"
      ]
     },
     "execution_count": 75,
     "metadata": {},
     "output_type": "execute_result"
    }
   ],
   "source": [
    "grid.fit(X_train, y_train)"
   ]
  },
  {
   "cell_type": "code",
   "execution_count": 76,
   "metadata": {},
   "outputs": [
    {
     "name": "stdout",
     "output_type": "stream",
     "text": [
      "0.9464993224869058\n",
      "{'n_neighbors': 11}\n"
     ]
    }
   ],
   "source": [
    "print(grid.best_score_)\n",
    "print(grid.best_params_)"
   ]
  },
  {
   "cell_type": "markdown",
   "metadata": {},
   "source": [
    "# Logistic Regression"
   ]
  },
  {
   "cell_type": "code",
   "execution_count": 77,
   "metadata": {},
   "outputs": [],
   "source": [
    "from sklearn.linear_model import LogisticRegression\n",
    "c_range = [0.001, 0.01, 0.1, 1, 10, 100, 1000]\n",
    "train_score_l1 = []\n",
    "\n",
    "test_score_l1 = []\n",
    "\n",
    "for c in c_range:\n",
    "\n",
    "    log_reg = LogisticRegression(multi_class=\"auto\",C = c, solver=\"lbfgs\", max_iter=1000, random_state= 0)\n",
    "\n",
    "    log_reg.fit(X_train, y_train)\n",
    "\n",
    "    train_score_l1.append(log_reg.score(X_train, y_train))\n",
    "\n",
    "    test_score_l1.append(log_reg.score(X_test, y_test))"
   ]
  },
  {
   "cell_type": "code",
   "execution_count": 78,
   "metadata": {},
   "outputs": [],
   "source": [
    "scores = cross_val_score(log_reg, X_train, y_train, cv=10, scoring='accuracy')"
   ]
  },
  {
   "cell_type": "code",
   "execution_count": 79,
   "metadata": {},
   "outputs": [
    {
     "data": {
      "text/plain": [
       "0.9464439163709686"
      ]
     },
     "execution_count": 79,
     "metadata": {},
     "output_type": "execute_result"
    }
   ],
   "source": [
    "scores.mean()"
   ]
  },
  {
   "cell_type": "code",
   "execution_count": 80,
   "metadata": {},
   "outputs": [],
   "source": [
    "scores = cross_val_score(log_reg, X_test, y_test, cv=10, scoring='accuracy')"
   ]
  },
  {
   "cell_type": "code",
   "execution_count": 81,
   "metadata": {},
   "outputs": [
    {
     "data": {
      "text/plain": [
       "0.9439780946305332"
      ]
     },
     "execution_count": 81,
     "metadata": {},
     "output_type": "execute_result"
    }
   ],
   "source": [
    "scores.mean()"
   ]
  },
  {
   "cell_type": "markdown",
   "metadata": {},
   "source": [
    "# SVC"
   ]
  },
  {
   "cell_type": "code",
   "execution_count": 82,
   "metadata": {},
   "outputs": [
    {
     "data": {
      "text/plain": [
       "SVC(C=1.0, break_ties=False, cache_size=200, class_weight=None, coef0=0.0,\n",
       "    decision_function_shape='ovr', degree=3, gamma='scale', kernel='linear',\n",
       "    max_iter=-1, probability=False, random_state=0, shrinking=True, tol=0.001,\n",
       "    verbose=False)"
      ]
     },
     "execution_count": 82,
     "metadata": {},
     "output_type": "execute_result"
    }
   ],
   "source": [
    "from sklearn.svm import SVC\n",
    "classifier = SVC(kernel = 'linear', random_state = 0)\n",
    "classifier.fit(X_train, y_train)"
   ]
  },
  {
   "cell_type": "code",
   "execution_count": 83,
   "metadata": {},
   "outputs": [],
   "source": [
    "\n",
    "# Predicting the Test set results\n",
    "y_pred = classifier.predict(X_test)"
   ]
  },
  {
   "cell_type": "code",
   "execution_count": 84,
   "metadata": {},
   "outputs": [],
   "source": [
    "\n",
    "# Making the Confusion Matrix\n",
    "from sklearn.metrics import confusion_matrix\n",
    "cm = confusion_matrix(y_test, y_pred)"
   ]
  },
  {
   "cell_type": "code",
   "execution_count": 85,
   "metadata": {},
   "outputs": [],
   "source": [
    "\n",
    "from sklearn.metrics import accuracy_score\n",
    "accuracy=accuracy_score(y_test,y_pred)"
   ]
  },
  {
   "cell_type": "code",
   "execution_count": 86,
   "metadata": {},
   "outputs": [
    {
     "data": {
      "text/plain": [
       "0.9441442939074058"
      ]
     },
     "execution_count": 86,
     "metadata": {},
     "output_type": "execute_result"
    }
   ],
   "source": [
    "accuracy"
   ]
  },
  {
   "cell_type": "code",
   "execution_count": 87,
   "metadata": {},
   "outputs": [],
   "source": [
    "parameters = [{'C': [1, 10], 'kernel': ['linear']}\n",
    "              ]\n",
    "grid_search = GridSearchCV(estimator = classifier,\n",
    "                           param_grid = parameters,\n",
    "                           scoring = 'accuracy',\n",
    "                           cv = 5,\n",
    "                           n_jobs = -1)\n",
    "grid_search = grid_search.fit(X_train, y_train)"
   ]
  },
  {
   "cell_type": "code",
   "execution_count": 88,
   "metadata": {},
   "outputs": [],
   "source": [
    "accuracy = grid_search.best_score_"
   ]
  },
  {
   "cell_type": "code",
   "execution_count": 89,
   "metadata": {},
   "outputs": [
    {
     "data": {
      "text/plain": [
       "0.9464993224869058"
      ]
     },
     "execution_count": 89,
     "metadata": {},
     "output_type": "execute_result"
    }
   ],
   "source": [
    "accuracy"
   ]
  },
  {
   "cell_type": "code",
   "execution_count": 90,
   "metadata": {},
   "outputs": [
    {
     "data": {
      "text/plain": [
       "{'C': 1, 'kernel': 'linear'}"
      ]
     },
     "execution_count": 90,
     "metadata": {},
     "output_type": "execute_result"
    }
   ],
   "source": [
    "grid_search.best_params_"
   ]
  },
  {
   "cell_type": "code",
   "execution_count": 91,
   "metadata": {},
   "outputs": [],
   "source": [
    "parameters =  [{'C': [1, 10, 100, 1000], 'kernel': ['rbf'], 'gamma': [0.1, 0.2, 0.3, 0.4, 0.5, 0.6]}\n",
    "              ]\n",
    "\n",
    "    \n",
    "    \n",
    "    \n",
    "grid_search = GridSearchCV(estimator = classifier,\n",
    "                           param_grid = parameters,\n",
    "                           scoring = 'accuracy',\n",
    "                           cv = 5,\n",
    "                           n_jobs = -1)\n",
    "grid_search = grid_search.fit(X_train, y_train)"
   ]
  },
  {
   "cell_type": "code",
   "execution_count": 92,
   "metadata": {},
   "outputs": [],
   "source": [
    "accuracy = grid_search.best_score_"
   ]
  },
  {
   "cell_type": "code",
   "execution_count": 93,
   "metadata": {},
   "outputs": [
    {
     "data": {
      "text/plain": [
       "0.9464993224869058"
      ]
     },
     "execution_count": 93,
     "metadata": {},
     "output_type": "execute_result"
    }
   ],
   "source": [
    "accuracy"
   ]
  },
  {
   "cell_type": "code",
   "execution_count": 94,
   "metadata": {},
   "outputs": [
    {
     "data": {
      "text/plain": [
       "{'C': 1, 'gamma': 0.1, 'kernel': 'rbf'}"
      ]
     },
     "execution_count": 94,
     "metadata": {},
     "output_type": "execute_result"
    }
   ],
   "source": [
    "grid_search.best_params_"
   ]
  },
  {
   "cell_type": "code",
   "execution_count": 95,
   "metadata": {},
   "outputs": [],
   "source": [
    "parameters =  [{'C': [1, 10, 100, 1000], 'kernel': ['poly'], 'degree': [2,3,4,5]}]\n",
    "    \n",
    "grid_search = GridSearchCV(estimator = classifier,\n",
    "                           param_grid = parameters,\n",
    "                           scoring = 'accuracy',\n",
    "                           cv = 5,\n",
    "                           n_jobs = -1)\n",
    "grid_search = grid_search.fit(X_train, y_train)"
   ]
  },
  {
   "cell_type": "code",
   "execution_count": 96,
   "metadata": {},
   "outputs": [],
   "source": [
    "accuracy = grid_search.best_score_"
   ]
  },
  {
   "cell_type": "code",
   "execution_count": 97,
   "metadata": {},
   "outputs": [
    {
     "data": {
      "text/plain": [
       "0.9464993224869058"
      ]
     },
     "execution_count": 97,
     "metadata": {},
     "output_type": "execute_result"
    }
   ],
   "source": [
    "accuracy"
   ]
  },
  {
   "cell_type": "code",
   "execution_count": 98,
   "metadata": {},
   "outputs": [
    {
     "data": {
      "text/plain": [
       "{'C': 1, 'degree': 2, 'kernel': 'poly'}"
      ]
     },
     "execution_count": 98,
     "metadata": {},
     "output_type": "execute_result"
    }
   ],
   "source": [
    "grid_search.best_params_"
   ]
  }
 ],
 "metadata": {
  "kernelspec": {
   "display_name": "Python 3",
   "language": "python",
   "name": "python3"
  },
  "language_info": {
   "codemirror_mode": {
    "name": "ipython",
    "version": 3
   },
   "file_extension": ".py",
   "mimetype": "text/x-python",
   "name": "python",
   "nbconvert_exporter": "python",
   "pygments_lexer": "ipython3",
   "version": "3.7.6"
  }
 },
 "nbformat": 4,
 "nbformat_minor": 4
}
